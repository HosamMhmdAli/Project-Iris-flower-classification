{
 "cells": [
  {
   "cell_type": "code",
   "execution_count": 1,
   "id": "7160ba83",
   "metadata": {
    "execution": {
     "iopub.execute_input": "2023-09-11T16:50:07.082465Z",
     "iopub.status.busy": "2023-09-11T16:50:07.081922Z",
     "iopub.status.idle": "2023-09-11T16:50:09.566161Z",
     "shell.execute_reply": "2023-09-11T16:50:09.564866Z"
    },
    "papermill": {
     "duration": 2.503169,
     "end_time": "2023-09-11T16:50:09.569042",
     "exception": false,
     "start_time": "2023-09-11T16:50:07.065873",
     "status": "completed"
    },
    "tags": []
   },
   "outputs": [],
   "source": [
    "import numpy as np\n",
    "import pandas as pd\n",
    "import matplotlib.pyplot as plt\n",
    "import seaborn as sns\n",
    "\n",
    "from sklearn.preprocessing import LabelEncoder\n",
    "from sklearn.model_selection import train_test_split\n",
    "from sklearn.linear_model import LogisticRegression \n",
    "from sklearn.neighbors import KNeighborsClassifier\n",
    "from sklearn import tree\n",
    "from sklearn.metrics import confusion_matrix,classification_report\n",
    "from sklearn.metrics import accuracy_score\n",
    "\n",
    "\n",
    "import warnings\n",
    "warnings.filterwarnings('ignore')"
   ]
  },
  {
   "cell_type": "code",
   "execution_count": 2,
   "id": "b2213a0a",
   "metadata": {
    "execution": {
     "iopub.execute_input": "2023-09-11T16:50:09.596684Z",
     "iopub.status.busy": "2023-09-11T16:50:09.596012Z",
     "iopub.status.idle": "2023-09-11T16:50:09.618860Z",
     "shell.execute_reply": "2023-09-11T16:50:09.617492Z"
    },
    "papermill": {
     "duration": 0.039823,
     "end_time": "2023-09-11T16:50:09.621806",
     "exception": false,
     "start_time": "2023-09-11T16:50:09.581983",
     "status": "completed"
    },
    "tags": []
   },
   "outputs": [],
   "source": [
    "df= pd.read_csv(\"IRIS.csv\")"
   ]
  },
  {
   "cell_type": "code",
   "execution_count": 3,
   "id": "7888198b",
   "metadata": {
    "execution": {
     "iopub.execute_input": "2023-09-11T16:50:09.649421Z",
     "iopub.status.busy": "2023-09-11T16:50:09.648942Z",
     "iopub.status.idle": "2023-09-11T16:50:09.679480Z",
     "shell.execute_reply": "2023-09-11T16:50:09.678088Z"
    },
    "papermill": {
     "duration": 0.047766,
     "end_time": "2023-09-11T16:50:09.682373",
     "exception": false,
     "start_time": "2023-09-11T16:50:09.634607",
     "status": "completed"
    },
    "tags": []
   },
   "outputs": [
    {
     "data": {
      "text/html": [
       "<div>\n",
       "<style scoped>\n",
       "    .dataframe tbody tr th:only-of-type {\n",
       "        vertical-align: middle;\n",
       "    }\n",
       "\n",
       "    .dataframe tbody tr th {\n",
       "        vertical-align: top;\n",
       "    }\n",
       "\n",
       "    .dataframe thead th {\n",
       "        text-align: right;\n",
       "    }\n",
       "</style>\n",
       "<table border=\"1\" class=\"dataframe\">\n",
       "  <thead>\n",
       "    <tr style=\"text-align: right;\">\n",
       "      <th></th>\n",
       "      <th>sepal_length</th>\n",
       "      <th>sepal_width</th>\n",
       "      <th>petal_length</th>\n",
       "      <th>petal_width</th>\n",
       "      <th>species</th>\n",
       "    </tr>\n",
       "  </thead>\n",
       "  <tbody>\n",
       "    <tr>\n",
       "      <th>0</th>\n",
       "      <td>5.1</td>\n",
       "      <td>3.5</td>\n",
       "      <td>1.4</td>\n",
       "      <td>0.2</td>\n",
       "      <td>Iris-setosa</td>\n",
       "    </tr>\n",
       "    <tr>\n",
       "      <th>1</th>\n",
       "      <td>4.9</td>\n",
       "      <td>3.0</td>\n",
       "      <td>1.4</td>\n",
       "      <td>0.2</td>\n",
       "      <td>Iris-setosa</td>\n",
       "    </tr>\n",
       "    <tr>\n",
       "      <th>2</th>\n",
       "      <td>4.7</td>\n",
       "      <td>3.2</td>\n",
       "      <td>1.3</td>\n",
       "      <td>0.2</td>\n",
       "      <td>Iris-setosa</td>\n",
       "    </tr>\n",
       "    <tr>\n",
       "      <th>3</th>\n",
       "      <td>4.6</td>\n",
       "      <td>3.1</td>\n",
       "      <td>1.5</td>\n",
       "      <td>0.2</td>\n",
       "      <td>Iris-setosa</td>\n",
       "    </tr>\n",
       "    <tr>\n",
       "      <th>4</th>\n",
       "      <td>5.0</td>\n",
       "      <td>3.6</td>\n",
       "      <td>1.4</td>\n",
       "      <td>0.2</td>\n",
       "      <td>Iris-setosa</td>\n",
       "    </tr>\n",
       "    <tr>\n",
       "      <th>...</th>\n",
       "      <td>...</td>\n",
       "      <td>...</td>\n",
       "      <td>...</td>\n",
       "      <td>...</td>\n",
       "      <td>...</td>\n",
       "    </tr>\n",
       "    <tr>\n",
       "      <th>145</th>\n",
       "      <td>6.7</td>\n",
       "      <td>3.0</td>\n",
       "      <td>5.2</td>\n",
       "      <td>2.3</td>\n",
       "      <td>Iris-virginica</td>\n",
       "    </tr>\n",
       "    <tr>\n",
       "      <th>146</th>\n",
       "      <td>6.3</td>\n",
       "      <td>2.5</td>\n",
       "      <td>5.0</td>\n",
       "      <td>1.9</td>\n",
       "      <td>Iris-virginica</td>\n",
       "    </tr>\n",
       "    <tr>\n",
       "      <th>147</th>\n",
       "      <td>6.5</td>\n",
       "      <td>3.0</td>\n",
       "      <td>5.2</td>\n",
       "      <td>2.0</td>\n",
       "      <td>Iris-virginica</td>\n",
       "    </tr>\n",
       "    <tr>\n",
       "      <th>148</th>\n",
       "      <td>6.2</td>\n",
       "      <td>3.4</td>\n",
       "      <td>5.4</td>\n",
       "      <td>2.3</td>\n",
       "      <td>Iris-virginica</td>\n",
       "    </tr>\n",
       "    <tr>\n",
       "      <th>149</th>\n",
       "      <td>5.9</td>\n",
       "      <td>3.0</td>\n",
       "      <td>5.1</td>\n",
       "      <td>1.8</td>\n",
       "      <td>Iris-virginica</td>\n",
       "    </tr>\n",
       "  </tbody>\n",
       "</table>\n",
       "<p>150 rows × 5 columns</p>\n",
       "</div>"
      ],
      "text/plain": [
       "     sepal_length  sepal_width  petal_length  petal_width         species\n",
       "0             5.1          3.5           1.4          0.2     Iris-setosa\n",
       "1             4.9          3.0           1.4          0.2     Iris-setosa\n",
       "2             4.7          3.2           1.3          0.2     Iris-setosa\n",
       "3             4.6          3.1           1.5          0.2     Iris-setosa\n",
       "4             5.0          3.6           1.4          0.2     Iris-setosa\n",
       "..            ...          ...           ...          ...             ...\n",
       "145           6.7          3.0           5.2          2.3  Iris-virginica\n",
       "146           6.3          2.5           5.0          1.9  Iris-virginica\n",
       "147           6.5          3.0           5.2          2.0  Iris-virginica\n",
       "148           6.2          3.4           5.4          2.3  Iris-virginica\n",
       "149           5.9          3.0           5.1          1.8  Iris-virginica\n",
       "\n",
       "[150 rows x 5 columns]"
      ]
     },
     "execution_count": 3,
     "metadata": {},
     "output_type": "execute_result"
    }
   ],
   "source": [
    "df"
   ]
  },
  {
   "cell_type": "code",
   "execution_count": 4,
   "id": "1cbe6d8b",
   "metadata": {
    "execution": {
     "iopub.execute_input": "2023-09-11T16:50:09.711474Z",
     "iopub.status.busy": "2023-09-11T16:50:09.710961Z",
     "iopub.status.idle": "2023-09-11T16:50:09.725739Z",
     "shell.execute_reply": "2023-09-11T16:50:09.724576Z"
    },
    "papermill": {
     "duration": 0.03174,
     "end_time": "2023-09-11T16:50:09.728236",
     "exception": false,
     "start_time": "2023-09-11T16:50:09.696496",
     "status": "completed"
    },
    "tags": []
   },
   "outputs": [
    {
     "data": {
      "text/html": [
       "<div>\n",
       "<style scoped>\n",
       "    .dataframe tbody tr th:only-of-type {\n",
       "        vertical-align: middle;\n",
       "    }\n",
       "\n",
       "    .dataframe tbody tr th {\n",
       "        vertical-align: top;\n",
       "    }\n",
       "\n",
       "    .dataframe thead th {\n",
       "        text-align: right;\n",
       "    }\n",
       "</style>\n",
       "<table border=\"1\" class=\"dataframe\">\n",
       "  <thead>\n",
       "    <tr style=\"text-align: right;\">\n",
       "      <th></th>\n",
       "      <th>sepal_length</th>\n",
       "      <th>sepal_width</th>\n",
       "      <th>petal_length</th>\n",
       "      <th>petal_width</th>\n",
       "      <th>species</th>\n",
       "    </tr>\n",
       "  </thead>\n",
       "  <tbody>\n",
       "    <tr>\n",
       "      <th>0</th>\n",
       "      <td>5.1</td>\n",
       "      <td>3.5</td>\n",
       "      <td>1.4</td>\n",
       "      <td>0.2</td>\n",
       "      <td>Iris-setosa</td>\n",
       "    </tr>\n",
       "    <tr>\n",
       "      <th>1</th>\n",
       "      <td>4.9</td>\n",
       "      <td>3.0</td>\n",
       "      <td>1.4</td>\n",
       "      <td>0.2</td>\n",
       "      <td>Iris-setosa</td>\n",
       "    </tr>\n",
       "    <tr>\n",
       "      <th>2</th>\n",
       "      <td>4.7</td>\n",
       "      <td>3.2</td>\n",
       "      <td>1.3</td>\n",
       "      <td>0.2</td>\n",
       "      <td>Iris-setosa</td>\n",
       "    </tr>\n",
       "    <tr>\n",
       "      <th>3</th>\n",
       "      <td>4.6</td>\n",
       "      <td>3.1</td>\n",
       "      <td>1.5</td>\n",
       "      <td>0.2</td>\n",
       "      <td>Iris-setosa</td>\n",
       "    </tr>\n",
       "    <tr>\n",
       "      <th>4</th>\n",
       "      <td>5.0</td>\n",
       "      <td>3.6</td>\n",
       "      <td>1.4</td>\n",
       "      <td>0.2</td>\n",
       "      <td>Iris-setosa</td>\n",
       "    </tr>\n",
       "  </tbody>\n",
       "</table>\n",
       "</div>"
      ],
      "text/plain": [
       "   sepal_length  sepal_width  petal_length  petal_width      species\n",
       "0           5.1          3.5           1.4          0.2  Iris-setosa\n",
       "1           4.9          3.0           1.4          0.2  Iris-setosa\n",
       "2           4.7          3.2           1.3          0.2  Iris-setosa\n",
       "3           4.6          3.1           1.5          0.2  Iris-setosa\n",
       "4           5.0          3.6           1.4          0.2  Iris-setosa"
      ]
     },
     "execution_count": 4,
     "metadata": {},
     "output_type": "execute_result"
    }
   ],
   "source": [
    "df.head()"
   ]
  },
  {
   "cell_type": "code",
   "execution_count": 5,
   "id": "9d668b4d",
   "metadata": {
    "execution": {
     "iopub.execute_input": "2023-09-11T16:50:09.757689Z",
     "iopub.status.busy": "2023-09-11T16:50:09.756935Z",
     "iopub.status.idle": "2023-09-11T16:50:09.865546Z",
     "shell.execute_reply": "2023-09-11T16:50:09.864316Z"
    },
    "papermill": {
     "duration": 0.126364,
     "end_time": "2023-09-11T16:50:09.868129",
     "exception": false,
     "start_time": "2023-09-11T16:50:09.741765",
     "status": "completed"
    },
    "tags": []
   },
   "outputs": [
    {
     "data": {
      "text/html": [
       "<style type=\"text/css\">\n",
       "#T_d6822_row0_col0, #T_d6822_row4_col1 {\n",
       "  background-color: #e6cd73;\n",
       "  color: #000000;\n",
       "}\n",
       "#T_d6822_row0_col1, #T_d6822_row4_col0, #T_d6822_row7_col0 {\n",
       "  background-color: #b2f396;\n",
       "  color: #000000;\n",
       "}\n",
       "#T_d6822_row0_col2, #T_d6822_row1_col2, #T_d6822_row4_col2, #T_d6822_row6_col2, #T_d6822_row8_col2 {\n",
       "  background-color: #01b3ec;\n",
       "  color: #f1f1f1;\n",
       "}\n",
       "#T_d6822_row0_col3, #T_d6822_row1_col3, #T_d6822_row2_col3, #T_d6822_row3_col3, #T_d6822_row4_col3, #T_d6822_row7_col3, #T_d6822_row8_col3 {\n",
       "  background-color: #2adddd;\n",
       "  color: #000000;\n",
       "}\n",
       "#T_d6822_row1_col0, #T_d6822_row3_col2, #T_d6822_row6_col1, #T_d6822_row7_col1, #T_d6822_row7_col2, #T_d6822_row9_col0, #T_d6822_row9_col2 {\n",
       "  background-color: #80ffb4;\n",
       "  color: #000000;\n",
       "}\n",
       "#T_d6822_row1_col1 {\n",
       "  background-color: #4e4dfc;\n",
       "  color: #f1f1f1;\n",
       "}\n",
       "#T_d6822_row2_col0, #T_d6822_row2_col1 {\n",
       "  background-color: #18cde4;\n",
       "  color: #000000;\n",
       "}\n",
       "#T_d6822_row2_col2, #T_d6822_row8_col0, #T_d6822_row8_col1, #T_d6822_row9_col3 {\n",
       "  background-color: #8000ff;\n",
       "  color: #f1f1f1;\n",
       "}\n",
       "#T_d6822_row3_col0, #T_d6822_row3_col1, #T_d6822_row6_col0, #T_d6822_row9_col1 {\n",
       "  background-color: #1996f3;\n",
       "  color: #f1f1f1;\n",
       "}\n",
       "#T_d6822_row5_col0, #T_d6822_row5_col1, #T_d6822_row5_col2, #T_d6822_row5_col3 {\n",
       "  background-color: #ff0000;\n",
       "  color: #f1f1f1;\n",
       "}\n",
       "#T_d6822_row6_col3 {\n",
       "  background-color: #d4dd80;\n",
       "  color: #000000;\n",
       "}\n",
       "</style>\n",
       "<table id=\"T_d6822\">\n",
       "  <thead>\n",
       "    <tr>\n",
       "      <th class=\"blank level0\" >&nbsp;</th>\n",
       "      <th id=\"T_d6822_level0_col0\" class=\"col_heading level0 col0\" >sepal_length</th>\n",
       "      <th id=\"T_d6822_level0_col1\" class=\"col_heading level0 col1\" >sepal_width</th>\n",
       "      <th id=\"T_d6822_level0_col2\" class=\"col_heading level0 col2\" >petal_length</th>\n",
       "      <th id=\"T_d6822_level0_col3\" class=\"col_heading level0 col3\" >petal_width</th>\n",
       "      <th id=\"T_d6822_level0_col4\" class=\"col_heading level0 col4\" >species</th>\n",
       "    </tr>\n",
       "  </thead>\n",
       "  <tbody>\n",
       "    <tr>\n",
       "      <th id=\"T_d6822_level0_row0\" class=\"row_heading level0 row0\" >0</th>\n",
       "      <td id=\"T_d6822_row0_col0\" class=\"data row0 col0\" >5.100000</td>\n",
       "      <td id=\"T_d6822_row0_col1\" class=\"data row0 col1\" >3.500000</td>\n",
       "      <td id=\"T_d6822_row0_col2\" class=\"data row0 col2\" >1.400000</td>\n",
       "      <td id=\"T_d6822_row0_col3\" class=\"data row0 col3\" >0.200000</td>\n",
       "      <td id=\"T_d6822_row0_col4\" class=\"data row0 col4\" >Iris-setosa</td>\n",
       "    </tr>\n",
       "    <tr>\n",
       "      <th id=\"T_d6822_level0_row1\" class=\"row_heading level0 row1\" >1</th>\n",
       "      <td id=\"T_d6822_row1_col0\" class=\"data row1 col0\" >4.900000</td>\n",
       "      <td id=\"T_d6822_row1_col1\" class=\"data row1 col1\" >3.000000</td>\n",
       "      <td id=\"T_d6822_row1_col2\" class=\"data row1 col2\" >1.400000</td>\n",
       "      <td id=\"T_d6822_row1_col3\" class=\"data row1 col3\" >0.200000</td>\n",
       "      <td id=\"T_d6822_row1_col4\" class=\"data row1 col4\" >Iris-setosa</td>\n",
       "    </tr>\n",
       "    <tr>\n",
       "      <th id=\"T_d6822_level0_row2\" class=\"row_heading level0 row2\" >2</th>\n",
       "      <td id=\"T_d6822_row2_col0\" class=\"data row2 col0\" >4.700000</td>\n",
       "      <td id=\"T_d6822_row2_col1\" class=\"data row2 col1\" >3.200000</td>\n",
       "      <td id=\"T_d6822_row2_col2\" class=\"data row2 col2\" >1.300000</td>\n",
       "      <td id=\"T_d6822_row2_col3\" class=\"data row2 col3\" >0.200000</td>\n",
       "      <td id=\"T_d6822_row2_col4\" class=\"data row2 col4\" >Iris-setosa</td>\n",
       "    </tr>\n",
       "    <tr>\n",
       "      <th id=\"T_d6822_level0_row3\" class=\"row_heading level0 row3\" >3</th>\n",
       "      <td id=\"T_d6822_row3_col0\" class=\"data row3 col0\" >4.600000</td>\n",
       "      <td id=\"T_d6822_row3_col1\" class=\"data row3 col1\" >3.100000</td>\n",
       "      <td id=\"T_d6822_row3_col2\" class=\"data row3 col2\" >1.500000</td>\n",
       "      <td id=\"T_d6822_row3_col3\" class=\"data row3 col3\" >0.200000</td>\n",
       "      <td id=\"T_d6822_row3_col4\" class=\"data row3 col4\" >Iris-setosa</td>\n",
       "    </tr>\n",
       "    <tr>\n",
       "      <th id=\"T_d6822_level0_row4\" class=\"row_heading level0 row4\" >4</th>\n",
       "      <td id=\"T_d6822_row4_col0\" class=\"data row4 col0\" >5.000000</td>\n",
       "      <td id=\"T_d6822_row4_col1\" class=\"data row4 col1\" >3.600000</td>\n",
       "      <td id=\"T_d6822_row4_col2\" class=\"data row4 col2\" >1.400000</td>\n",
       "      <td id=\"T_d6822_row4_col3\" class=\"data row4 col3\" >0.200000</td>\n",
       "      <td id=\"T_d6822_row4_col4\" class=\"data row4 col4\" >Iris-setosa</td>\n",
       "    </tr>\n",
       "    <tr>\n",
       "      <th id=\"T_d6822_level0_row5\" class=\"row_heading level0 row5\" >5</th>\n",
       "      <td id=\"T_d6822_row5_col0\" class=\"data row5 col0\" >5.400000</td>\n",
       "      <td id=\"T_d6822_row5_col1\" class=\"data row5 col1\" >3.900000</td>\n",
       "      <td id=\"T_d6822_row5_col2\" class=\"data row5 col2\" >1.700000</td>\n",
       "      <td id=\"T_d6822_row5_col3\" class=\"data row5 col3\" >0.400000</td>\n",
       "      <td id=\"T_d6822_row5_col4\" class=\"data row5 col4\" >Iris-setosa</td>\n",
       "    </tr>\n",
       "    <tr>\n",
       "      <th id=\"T_d6822_level0_row6\" class=\"row_heading level0 row6\" >6</th>\n",
       "      <td id=\"T_d6822_row6_col0\" class=\"data row6 col0\" >4.600000</td>\n",
       "      <td id=\"T_d6822_row6_col1\" class=\"data row6 col1\" >3.400000</td>\n",
       "      <td id=\"T_d6822_row6_col2\" class=\"data row6 col2\" >1.400000</td>\n",
       "      <td id=\"T_d6822_row6_col3\" class=\"data row6 col3\" >0.300000</td>\n",
       "      <td id=\"T_d6822_row6_col4\" class=\"data row6 col4\" >Iris-setosa</td>\n",
       "    </tr>\n",
       "    <tr>\n",
       "      <th id=\"T_d6822_level0_row7\" class=\"row_heading level0 row7\" >7</th>\n",
       "      <td id=\"T_d6822_row7_col0\" class=\"data row7 col0\" >5.000000</td>\n",
       "      <td id=\"T_d6822_row7_col1\" class=\"data row7 col1\" >3.400000</td>\n",
       "      <td id=\"T_d6822_row7_col2\" class=\"data row7 col2\" >1.500000</td>\n",
       "      <td id=\"T_d6822_row7_col3\" class=\"data row7 col3\" >0.200000</td>\n",
       "      <td id=\"T_d6822_row7_col4\" class=\"data row7 col4\" >Iris-setosa</td>\n",
       "    </tr>\n",
       "    <tr>\n",
       "      <th id=\"T_d6822_level0_row8\" class=\"row_heading level0 row8\" >8</th>\n",
       "      <td id=\"T_d6822_row8_col0\" class=\"data row8 col0\" >4.400000</td>\n",
       "      <td id=\"T_d6822_row8_col1\" class=\"data row8 col1\" >2.900000</td>\n",
       "      <td id=\"T_d6822_row8_col2\" class=\"data row8 col2\" >1.400000</td>\n",
       "      <td id=\"T_d6822_row8_col3\" class=\"data row8 col3\" >0.200000</td>\n",
       "      <td id=\"T_d6822_row8_col4\" class=\"data row8 col4\" >Iris-setosa</td>\n",
       "    </tr>\n",
       "    <tr>\n",
       "      <th id=\"T_d6822_level0_row9\" class=\"row_heading level0 row9\" >9</th>\n",
       "      <td id=\"T_d6822_row9_col0\" class=\"data row9 col0\" >4.900000</td>\n",
       "      <td id=\"T_d6822_row9_col1\" class=\"data row9 col1\" >3.100000</td>\n",
       "      <td id=\"T_d6822_row9_col2\" class=\"data row9 col2\" >1.500000</td>\n",
       "      <td id=\"T_d6822_row9_col3\" class=\"data row9 col3\" >0.100000</td>\n",
       "      <td id=\"T_d6822_row9_col4\" class=\"data row9 col4\" >Iris-setosa</td>\n",
       "    </tr>\n",
       "  </tbody>\n",
       "</table>\n"
      ],
      "text/plain": [
       "<pandas.io.formats.style.Styler at 0x122851150>"
      ]
     },
     "execution_count": 5,
     "metadata": {},
     "output_type": "execute_result"
    }
   ],
   "source": [
    "df.head(10).style.background_gradient(cmap='rainbow')"
   ]
  },
  {
   "cell_type": "code",
   "execution_count": 6,
   "id": "3d1c8519",
   "metadata": {
    "execution": {
     "iopub.execute_input": "2023-09-11T16:50:09.897453Z",
     "iopub.status.busy": "2023-09-11T16:50:09.896842Z",
     "iopub.status.idle": "2023-09-11T16:50:09.910599Z",
     "shell.execute_reply": "2023-09-11T16:50:09.909469Z"
    },
    "papermill": {
     "duration": 0.031688,
     "end_time": "2023-09-11T16:50:09.913249",
     "exception": false,
     "start_time": "2023-09-11T16:50:09.881561",
     "status": "completed"
    },
    "tags": []
   },
   "outputs": [
    {
     "data": {
      "text/html": [
       "<div>\n",
       "<style scoped>\n",
       "    .dataframe tbody tr th:only-of-type {\n",
       "        vertical-align: middle;\n",
       "    }\n",
       "\n",
       "    .dataframe tbody tr th {\n",
       "        vertical-align: top;\n",
       "    }\n",
       "\n",
       "    .dataframe thead th {\n",
       "        text-align: right;\n",
       "    }\n",
       "</style>\n",
       "<table border=\"1\" class=\"dataframe\">\n",
       "  <thead>\n",
       "    <tr style=\"text-align: right;\">\n",
       "      <th></th>\n",
       "      <th>sepal_length</th>\n",
       "      <th>sepal_width</th>\n",
       "      <th>petal_length</th>\n",
       "      <th>petal_width</th>\n",
       "      <th>species</th>\n",
       "    </tr>\n",
       "  </thead>\n",
       "  <tbody>\n",
       "    <tr>\n",
       "      <th>145</th>\n",
       "      <td>6.7</td>\n",
       "      <td>3.0</td>\n",
       "      <td>5.2</td>\n",
       "      <td>2.3</td>\n",
       "      <td>Iris-virginica</td>\n",
       "    </tr>\n",
       "    <tr>\n",
       "      <th>146</th>\n",
       "      <td>6.3</td>\n",
       "      <td>2.5</td>\n",
       "      <td>5.0</td>\n",
       "      <td>1.9</td>\n",
       "      <td>Iris-virginica</td>\n",
       "    </tr>\n",
       "    <tr>\n",
       "      <th>147</th>\n",
       "      <td>6.5</td>\n",
       "      <td>3.0</td>\n",
       "      <td>5.2</td>\n",
       "      <td>2.0</td>\n",
       "      <td>Iris-virginica</td>\n",
       "    </tr>\n",
       "    <tr>\n",
       "      <th>148</th>\n",
       "      <td>6.2</td>\n",
       "      <td>3.4</td>\n",
       "      <td>5.4</td>\n",
       "      <td>2.3</td>\n",
       "      <td>Iris-virginica</td>\n",
       "    </tr>\n",
       "    <tr>\n",
       "      <th>149</th>\n",
       "      <td>5.9</td>\n",
       "      <td>3.0</td>\n",
       "      <td>5.1</td>\n",
       "      <td>1.8</td>\n",
       "      <td>Iris-virginica</td>\n",
       "    </tr>\n",
       "  </tbody>\n",
       "</table>\n",
       "</div>"
      ],
      "text/plain": [
       "     sepal_length  sepal_width  petal_length  petal_width         species\n",
       "145           6.7          3.0           5.2          2.3  Iris-virginica\n",
       "146           6.3          2.5           5.0          1.9  Iris-virginica\n",
       "147           6.5          3.0           5.2          2.0  Iris-virginica\n",
       "148           6.2          3.4           5.4          2.3  Iris-virginica\n",
       "149           5.9          3.0           5.1          1.8  Iris-virginica"
      ]
     },
     "execution_count": 6,
     "metadata": {},
     "output_type": "execute_result"
    }
   ],
   "source": [
    "df.tail()"
   ]
  },
  {
   "cell_type": "code",
   "execution_count": 7,
   "id": "b302bbbb",
   "metadata": {
    "execution": {
     "iopub.execute_input": "2023-09-11T16:50:09.942517Z",
     "iopub.status.busy": "2023-09-11T16:50:09.942052Z",
     "iopub.status.idle": "2023-09-11T16:50:09.961352Z",
     "shell.execute_reply": "2023-09-11T16:50:09.960119Z"
    },
    "papermill": {
     "duration": 0.037124,
     "end_time": "2023-09-11T16:50:09.964089",
     "exception": false,
     "start_time": "2023-09-11T16:50:09.926965",
     "status": "completed"
    },
    "tags": []
   },
   "outputs": [
    {
     "data": {
      "text/html": [
       "<style type=\"text/css\">\n",
       "#T_b5dba_row0_col0, #T_b5dba_row4_col0, #T_b5dba_row5_col0 {\n",
       "  background-color: #ff8947;\n",
       "  color: #f1f1f1;\n",
       "}\n",
       "#T_b5dba_row0_col1, #T_b5dba_row0_col2, #T_b5dba_row1_col1 {\n",
       "  background-color: #d4dd80;\n",
       "  color: #000000;\n",
       "}\n",
       "#T_b5dba_row0_col3 {\n",
       "  background-color: #ff6d38;\n",
       "  color: #f1f1f1;\n",
       "}\n",
       "#T_b5dba_row1_col0, #T_b5dba_row3_col2, #T_b5dba_row4_col3, #T_b5dba_row8_col1 {\n",
       "  background-color: #ff0000;\n",
       "  color: #f1f1f1;\n",
       "}\n",
       "#T_b5dba_row1_col2, #T_b5dba_row2_col2, #T_b5dba_row9_col2 {\n",
       "  background-color: #4856fb;\n",
       "  color: #f1f1f1;\n",
       "}\n",
       "#T_b5dba_row1_col3, #T_b5dba_row3_col3, #T_b5dba_row5_col3, #T_b5dba_row8_col3 {\n",
       "  background-color: #ecc86f;\n",
       "  color: #000000;\n",
       "}\n",
       "#T_b5dba_row2_col0, #T_b5dba_row6_col1, #T_b5dba_row6_col2, #T_b5dba_row9_col3 {\n",
       "  background-color: #8000ff;\n",
       "  color: #f1f1f1;\n",
       "}\n",
       "#T_b5dba_row2_col1, #T_b5dba_row5_col2, #T_b5dba_row7_col2 {\n",
       "  background-color: #10a2f0;\n",
       "  color: #f1f1f1;\n",
       "}\n",
       "#T_b5dba_row2_col3, #T_b5dba_row6_col3 {\n",
       "  background-color: #386df9;\n",
       "  color: #f1f1f1;\n",
       "}\n",
       "#T_b5dba_row3_col0 {\n",
       "  background-color: #ff4724;\n",
       "  color: #f1f1f1;\n",
       "}\n",
       "#T_b5dba_row3_col1, #T_b5dba_row4_col2 {\n",
       "  background-color: #ffa256;\n",
       "  color: #000000;\n",
       "}\n",
       "#T_b5dba_row4_col1 {\n",
       "  background-color: #ff562c;\n",
       "  color: #f1f1f1;\n",
       "}\n",
       "#T_b5dba_row5_col1, #T_b5dba_row7_col1, #T_b5dba_row9_col1 {\n",
       "  background-color: #9cfba4;\n",
       "  color: #000000;\n",
       "}\n",
       "#T_b5dba_row6_col0 {\n",
       "  background-color: #68fcc1;\n",
       "  color: #000000;\n",
       "}\n",
       "#T_b5dba_row7_col0 {\n",
       "  background-color: #c4e88a;\n",
       "  color: #000000;\n",
       "}\n",
       "#T_b5dba_row7_col3 {\n",
       "  background-color: #12c8e6;\n",
       "  color: #000000;\n",
       "}\n",
       "#T_b5dba_row8_col0 {\n",
       "  background-color: #3ae8d6;\n",
       "  color: #000000;\n",
       "}\n",
       "#T_b5dba_row8_col2 {\n",
       "  background-color: #62fbc4;\n",
       "  color: #000000;\n",
       "}\n",
       "#T_b5dba_row9_col0 {\n",
       "  background-color: #5247fc;\n",
       "  color: #f1f1f1;\n",
       "}\n",
       "</style>\n",
       "<table id=\"T_b5dba\">\n",
       "  <thead>\n",
       "    <tr>\n",
       "      <th class=\"blank level0\" >&nbsp;</th>\n",
       "      <th id=\"T_b5dba_level0_col0\" class=\"col_heading level0 col0\" >sepal_length</th>\n",
       "      <th id=\"T_b5dba_level0_col1\" class=\"col_heading level0 col1\" >sepal_width</th>\n",
       "      <th id=\"T_b5dba_level0_col2\" class=\"col_heading level0 col2\" >petal_length</th>\n",
       "      <th id=\"T_b5dba_level0_col3\" class=\"col_heading level0 col3\" >petal_width</th>\n",
       "      <th id=\"T_b5dba_level0_col4\" class=\"col_heading level0 col4\" >species</th>\n",
       "    </tr>\n",
       "  </thead>\n",
       "  <tbody>\n",
       "    <tr>\n",
       "      <th id=\"T_b5dba_level0_row0\" class=\"row_heading level0 row0\" >140</th>\n",
       "      <td id=\"T_b5dba_row0_col0\" class=\"data row0 col0\" >6.700000</td>\n",
       "      <td id=\"T_b5dba_row0_col1\" class=\"data row0 col1\" >3.100000</td>\n",
       "      <td id=\"T_b5dba_row0_col2\" class=\"data row0 col2\" >5.600000</td>\n",
       "      <td id=\"T_b5dba_row0_col3\" class=\"data row0 col3\" >2.400000</td>\n",
       "      <td id=\"T_b5dba_row0_col4\" class=\"data row0 col4\" >Iris-virginica</td>\n",
       "    </tr>\n",
       "    <tr>\n",
       "      <th id=\"T_b5dba_level0_row1\" class=\"row_heading level0 row1\" >141</th>\n",
       "      <td id=\"T_b5dba_row1_col0\" class=\"data row1 col0\" >6.900000</td>\n",
       "      <td id=\"T_b5dba_row1_col1\" class=\"data row1 col1\" >3.100000</td>\n",
       "      <td id=\"T_b5dba_row1_col2\" class=\"data row1 col2\" >5.100000</td>\n",
       "      <td id=\"T_b5dba_row1_col3\" class=\"data row1 col3\" >2.300000</td>\n",
       "      <td id=\"T_b5dba_row1_col4\" class=\"data row1 col4\" >Iris-virginica</td>\n",
       "    </tr>\n",
       "    <tr>\n",
       "      <th id=\"T_b5dba_level0_row2\" class=\"row_heading level0 row2\" >142</th>\n",
       "      <td id=\"T_b5dba_row2_col0\" class=\"data row2 col0\" >5.800000</td>\n",
       "      <td id=\"T_b5dba_row2_col1\" class=\"data row2 col1\" >2.700000</td>\n",
       "      <td id=\"T_b5dba_row2_col2\" class=\"data row2 col2\" >5.100000</td>\n",
       "      <td id=\"T_b5dba_row2_col3\" class=\"data row2 col3\" >1.900000</td>\n",
       "      <td id=\"T_b5dba_row2_col4\" class=\"data row2 col4\" >Iris-virginica</td>\n",
       "    </tr>\n",
       "    <tr>\n",
       "      <th id=\"T_b5dba_level0_row3\" class=\"row_heading level0 row3\" >143</th>\n",
       "      <td id=\"T_b5dba_row3_col0\" class=\"data row3 col0\" >6.800000</td>\n",
       "      <td id=\"T_b5dba_row3_col1\" class=\"data row3 col1\" >3.200000</td>\n",
       "      <td id=\"T_b5dba_row3_col2\" class=\"data row3 col2\" >5.900000</td>\n",
       "      <td id=\"T_b5dba_row3_col3\" class=\"data row3 col3\" >2.300000</td>\n",
       "      <td id=\"T_b5dba_row3_col4\" class=\"data row3 col4\" >Iris-virginica</td>\n",
       "    </tr>\n",
       "    <tr>\n",
       "      <th id=\"T_b5dba_level0_row4\" class=\"row_heading level0 row4\" >144</th>\n",
       "      <td id=\"T_b5dba_row4_col0\" class=\"data row4 col0\" >6.700000</td>\n",
       "      <td id=\"T_b5dba_row4_col1\" class=\"data row4 col1\" >3.300000</td>\n",
       "      <td id=\"T_b5dba_row4_col2\" class=\"data row4 col2\" >5.700000</td>\n",
       "      <td id=\"T_b5dba_row4_col3\" class=\"data row4 col3\" >2.500000</td>\n",
       "      <td id=\"T_b5dba_row4_col4\" class=\"data row4 col4\" >Iris-virginica</td>\n",
       "    </tr>\n",
       "    <tr>\n",
       "      <th id=\"T_b5dba_level0_row5\" class=\"row_heading level0 row5\" >145</th>\n",
       "      <td id=\"T_b5dba_row5_col0\" class=\"data row5 col0\" >6.700000</td>\n",
       "      <td id=\"T_b5dba_row5_col1\" class=\"data row5 col1\" >3.000000</td>\n",
       "      <td id=\"T_b5dba_row5_col2\" class=\"data row5 col2\" >5.200000</td>\n",
       "      <td id=\"T_b5dba_row5_col3\" class=\"data row5 col3\" >2.300000</td>\n",
       "      <td id=\"T_b5dba_row5_col4\" class=\"data row5 col4\" >Iris-virginica</td>\n",
       "    </tr>\n",
       "    <tr>\n",
       "      <th id=\"T_b5dba_level0_row6\" class=\"row_heading level0 row6\" >146</th>\n",
       "      <td id=\"T_b5dba_row6_col0\" class=\"data row6 col0\" >6.300000</td>\n",
       "      <td id=\"T_b5dba_row6_col1\" class=\"data row6 col1\" >2.500000</td>\n",
       "      <td id=\"T_b5dba_row6_col2\" class=\"data row6 col2\" >5.000000</td>\n",
       "      <td id=\"T_b5dba_row6_col3\" class=\"data row6 col3\" >1.900000</td>\n",
       "      <td id=\"T_b5dba_row6_col4\" class=\"data row6 col4\" >Iris-virginica</td>\n",
       "    </tr>\n",
       "    <tr>\n",
       "      <th id=\"T_b5dba_level0_row7\" class=\"row_heading level0 row7\" >147</th>\n",
       "      <td id=\"T_b5dba_row7_col0\" class=\"data row7 col0\" >6.500000</td>\n",
       "      <td id=\"T_b5dba_row7_col1\" class=\"data row7 col1\" >3.000000</td>\n",
       "      <td id=\"T_b5dba_row7_col2\" class=\"data row7 col2\" >5.200000</td>\n",
       "      <td id=\"T_b5dba_row7_col3\" class=\"data row7 col3\" >2.000000</td>\n",
       "      <td id=\"T_b5dba_row7_col4\" class=\"data row7 col4\" >Iris-virginica</td>\n",
       "    </tr>\n",
       "    <tr>\n",
       "      <th id=\"T_b5dba_level0_row8\" class=\"row_heading level0 row8\" >148</th>\n",
       "      <td id=\"T_b5dba_row8_col0\" class=\"data row8 col0\" >6.200000</td>\n",
       "      <td id=\"T_b5dba_row8_col1\" class=\"data row8 col1\" >3.400000</td>\n",
       "      <td id=\"T_b5dba_row8_col2\" class=\"data row8 col2\" >5.400000</td>\n",
       "      <td id=\"T_b5dba_row8_col3\" class=\"data row8 col3\" >2.300000</td>\n",
       "      <td id=\"T_b5dba_row8_col4\" class=\"data row8 col4\" >Iris-virginica</td>\n",
       "    </tr>\n",
       "    <tr>\n",
       "      <th id=\"T_b5dba_level0_row9\" class=\"row_heading level0 row9\" >149</th>\n",
       "      <td id=\"T_b5dba_row9_col0\" class=\"data row9 col0\" >5.900000</td>\n",
       "      <td id=\"T_b5dba_row9_col1\" class=\"data row9 col1\" >3.000000</td>\n",
       "      <td id=\"T_b5dba_row9_col2\" class=\"data row9 col2\" >5.100000</td>\n",
       "      <td id=\"T_b5dba_row9_col3\" class=\"data row9 col3\" >1.800000</td>\n",
       "      <td id=\"T_b5dba_row9_col4\" class=\"data row9 col4\" >Iris-virginica</td>\n",
       "    </tr>\n",
       "  </tbody>\n",
       "</table>\n"
      ],
      "text/plain": [
       "<pandas.io.formats.style.Styler at 0x122b56050>"
      ]
     },
     "execution_count": 7,
     "metadata": {},
     "output_type": "execute_result"
    }
   ],
   "source": [
    "df.tail(10).style.background_gradient(cmap='rainbow')"
   ]
  },
  {
   "cell_type": "code",
   "execution_count": null,
   "id": "07b815cd",
   "metadata": {
    "execution": {
     "iopub.execute_input": "2023-09-11T16:50:09.994766Z",
     "iopub.status.busy": "2023-09-11T16:50:09.994297Z",
     "iopub.status.idle": "2023-09-11T16:50:10.018348Z",
     "shell.execute_reply": "2023-09-11T16:50:10.017387Z"
    },
    "papermill": {
     "duration": 0.044406,
     "end_time": "2023-09-11T16:50:10.022681",
     "exception": false,
     "start_time": "2023-09-11T16:50:09.978275",
     "status": "completed"
    },
    "tags": []
   },
   "outputs": [],
   "source": [
    "df.sample(10).style.background_gradient(cmap='rainbow')"
   ]
  },
  {
   "cell_type": "code",
   "execution_count": null,
   "id": "d497f24e",
   "metadata": {
    "execution": {
     "iopub.execute_input": "2023-09-11T16:50:10.054898Z",
     "iopub.status.busy": "2023-09-11T16:50:10.054034Z",
     "iopub.status.idle": "2023-09-11T16:50:10.078410Z",
     "shell.execute_reply": "2023-09-11T16:50:10.076751Z"
    },
    "papermill": {
     "duration": 0.043642,
     "end_time": "2023-09-11T16:50:10.081370",
     "exception": false,
     "start_time": "2023-09-11T16:50:10.037728",
     "status": "completed"
    },
    "tags": []
   },
   "outputs": [],
   "source": [
    "df.describe()"
   ]
  },
  {
   "cell_type": "code",
   "execution_count": null,
   "id": "ffb7681e",
   "metadata": {
    "execution": {
     "iopub.execute_input": "2023-09-11T16:50:10.113488Z",
     "iopub.status.busy": "2023-09-11T16:50:10.112744Z",
     "iopub.status.idle": "2023-09-11T16:50:10.140647Z",
     "shell.execute_reply": "2023-09-11T16:50:10.139697Z"
    },
    "papermill": {
     "duration": 0.046048,
     "end_time": "2023-09-11T16:50:10.142914",
     "exception": false,
     "start_time": "2023-09-11T16:50:10.096866",
     "status": "completed"
    },
    "tags": []
   },
   "outputs": [],
   "source": [
    "df.describe().style.background_gradient(cmap='Reds')"
   ]
  },
  {
   "cell_type": "code",
   "execution_count": null,
   "id": "df466b50",
   "metadata": {
    "execution": {
     "iopub.execute_input": "2023-09-11T16:50:10.174837Z",
     "iopub.status.busy": "2023-09-11T16:50:10.173726Z",
     "iopub.status.idle": "2023-09-11T16:50:10.180880Z",
     "shell.execute_reply": "2023-09-11T16:50:10.179848Z"
    },
    "papermill": {
     "duration": 0.025825,
     "end_time": "2023-09-11T16:50:10.183465",
     "exception": false,
     "start_time": "2023-09-11T16:50:10.157640",
     "status": "completed"
    },
    "tags": []
   },
   "outputs": [],
   "source": [
    "df.columns"
   ]
  },
  {
   "cell_type": "code",
   "execution_count": null,
   "id": "5aa80323",
   "metadata": {
    "execution": {
     "iopub.execute_input": "2023-09-11T16:50:10.303318Z",
     "iopub.status.busy": "2023-09-11T16:50:10.302570Z",
     "iopub.status.idle": "2023-09-11T16:50:10.321003Z",
     "shell.execute_reply": "2023-09-11T16:50:10.319128Z"
    },
    "papermill": {
     "duration": 0.037724,
     "end_time": "2023-09-11T16:50:10.323482",
     "exception": false,
     "start_time": "2023-09-11T16:50:10.285758",
     "status": "completed"
    },
    "tags": []
   },
   "outputs": [],
   "source": [
    "df.info()"
   ]
  },
  {
   "cell_type": "code",
   "execution_count": null,
   "id": "edad6665",
   "metadata": {
    "execution": {
     "iopub.execute_input": "2023-09-11T16:50:10.355510Z",
     "iopub.status.busy": "2023-09-11T16:50:10.355049Z",
     "iopub.status.idle": "2023-09-11T16:50:10.360885Z",
     "shell.execute_reply": "2023-09-11T16:50:10.360145Z"
    },
    "papermill": {
     "duration": 0.024476,
     "end_time": "2023-09-11T16:50:10.363091",
     "exception": false,
     "start_time": "2023-09-11T16:50:10.338615",
     "status": "completed"
    },
    "tags": []
   },
   "outputs": [],
   "source": [
    "df.shape"
   ]
  },
  {
   "cell_type": "code",
   "execution_count": null,
   "id": "e467ebf1",
   "metadata": {
    "execution": {
     "iopub.execute_input": "2023-09-11T16:50:10.395938Z",
     "iopub.status.busy": "2023-09-11T16:50:10.395195Z",
     "iopub.status.idle": "2023-09-11T16:50:10.403315Z",
     "shell.execute_reply": "2023-09-11T16:50:10.402187Z"
    },
    "papermill": {
     "duration": 0.027177,
     "end_time": "2023-09-11T16:50:10.405587",
     "exception": false,
     "start_time": "2023-09-11T16:50:10.378410",
     "status": "completed"
    },
    "tags": []
   },
   "outputs": [],
   "source": [
    "df.isna().sum()"
   ]
  },
  {
   "cell_type": "code",
   "execution_count": null,
   "id": "0c9424d3",
   "metadata": {
    "execution": {
     "iopub.execute_input": "2023-09-11T16:50:10.440135Z",
     "iopub.status.busy": "2023-09-11T16:50:10.439324Z",
     "iopub.status.idle": "2023-09-11T16:50:10.447059Z",
     "shell.execute_reply": "2023-09-11T16:50:10.446141Z"
    },
    "papermill": {
     "duration": 0.028201,
     "end_time": "2023-09-11T16:50:10.449334",
     "exception": false,
     "start_time": "2023-09-11T16:50:10.421133",
     "status": "completed"
    },
    "tags": []
   },
   "outputs": [],
   "source": [
    "df.duplicated().sum()"
   ]
  },
  {
   "cell_type": "code",
   "execution_count": null,
   "id": "b29b5915",
   "metadata": {
    "execution": {
     "iopub.execute_input": "2023-09-11T16:50:10.483266Z",
     "iopub.status.busy": "2023-09-11T16:50:10.482453Z",
     "iopub.status.idle": "2023-09-11T16:50:10.488662Z",
     "shell.execute_reply": "2023-09-11T16:50:10.487737Z"
    },
    "papermill": {
     "duration": 0.025862,
     "end_time": "2023-09-11T16:50:10.491264",
     "exception": false,
     "start_time": "2023-09-11T16:50:10.465402",
     "status": "completed"
    },
    "tags": []
   },
   "outputs": [],
   "source": [
    "df.drop_duplicates(inplace = True)"
   ]
  },
  {
   "cell_type": "code",
   "execution_count": null,
   "id": "6dcccaee",
   "metadata": {
    "execution": {
     "iopub.execute_input": "2023-09-11T16:50:10.525413Z",
     "iopub.status.busy": "2023-09-11T16:50:10.524555Z",
     "iopub.status.idle": "2023-09-11T16:50:10.532128Z",
     "shell.execute_reply": "2023-09-11T16:50:10.531316Z"
    },
    "papermill": {
     "duration": 0.027119,
     "end_time": "2023-09-11T16:50:10.534307",
     "exception": false,
     "start_time": "2023-09-11T16:50:10.507188",
     "status": "completed"
    },
    "tags": []
   },
   "outputs": [],
   "source": [
    "df.duplicated().sum()"
   ]
  },
  {
   "cell_type": "code",
   "execution_count": null,
   "id": "0d67e8f0",
   "metadata": {
    "execution": {
     "iopub.execute_input": "2023-09-11T16:50:10.567388Z",
     "iopub.status.busy": "2023-09-11T16:50:10.566669Z",
     "iopub.status.idle": "2023-09-11T16:50:10.931049Z",
     "shell.execute_reply": "2023-09-11T16:50:10.930146Z"
    },
    "papermill": {
     "duration": 0.383801,
     "end_time": "2023-09-11T16:50:10.933745",
     "exception": false,
     "start_time": "2023-09-11T16:50:10.549944",
     "status": "completed"
    },
    "tags": []
   },
   "outputs": [],
   "source": [
    "plt.figure(figsize = (12, 8))\n",
    "df.plot()\n",
    "plt.show()"
   ]
  },
  {
   "cell_type": "code",
   "execution_count": null,
   "id": "9592cdc7",
   "metadata": {
    "execution": {
     "iopub.execute_input": "2023-09-11T16:50:10.971163Z",
     "iopub.status.busy": "2023-09-11T16:50:10.970702Z",
     "iopub.status.idle": "2023-09-11T16:50:11.283656Z",
     "shell.execute_reply": "2023-09-11T16:50:11.282420Z"
    },
    "papermill": {
     "duration": 0.334461,
     "end_time": "2023-09-11T16:50:11.286303",
     "exception": false,
     "start_time": "2023-09-11T16:50:10.951842",
     "status": "completed"
    },
    "tags": []
   },
   "outputs": [],
   "source": [
    "c1 = 'sepal_length'\n",
    "plt.figure(figsize = (12, 8))\n",
    "df[c1].hist()\n",
    "plt.title(c1, fontsize=18)\n",
    "plt.show()"
   ]
  },
  {
   "cell_type": "code",
   "execution_count": null,
   "id": "6b7db890",
   "metadata": {
    "execution": {
     "iopub.execute_input": "2023-09-11T16:50:11.327500Z",
     "iopub.status.busy": "2023-09-11T16:50:11.326685Z",
     "iopub.status.idle": "2023-09-11T16:50:11.638169Z",
     "shell.execute_reply": "2023-09-11T16:50:11.636793Z"
    },
    "papermill": {
     "duration": 0.336028,
     "end_time": "2023-09-11T16:50:11.640949",
     "exception": false,
     "start_time": "2023-09-11T16:50:11.304921",
     "status": "completed"
    },
    "tags": []
   },
   "outputs": [],
   "source": [
    "c2 = 'sepal_width'\n",
    "plt.figure(figsize = (12, 8))\n",
    "df[c2].hist()\n",
    "plt.title(c2, fontsize=18)\n",
    "plt.show()"
   ]
  },
  {
   "cell_type": "code",
   "execution_count": null,
   "id": "a7013d95",
   "metadata": {
    "execution": {
     "iopub.execute_input": "2023-09-11T16:50:11.679739Z",
     "iopub.status.busy": "2023-09-11T16:50:11.678671Z",
     "iopub.status.idle": "2023-09-11T16:50:11.991094Z",
     "shell.execute_reply": "2023-09-11T16:50:11.989945Z"
    },
    "papermill": {
     "duration": 0.33455,
     "end_time": "2023-09-11T16:50:11.993740",
     "exception": false,
     "start_time": "2023-09-11T16:50:11.659190",
     "status": "completed"
    },
    "tags": []
   },
   "outputs": [],
   "source": [
    "c3 = 'petal_length'\n",
    "plt.figure(figsize = (12, 8))\n",
    "df[c3].hist()\n",
    "plt.title(c3, fontsize=18)\n",
    "plt.show()"
   ]
  },
  {
   "cell_type": "code",
   "execution_count": null,
   "id": "358b06bd",
   "metadata": {
    "execution": {
     "iopub.execute_input": "2023-09-11T16:50:12.032506Z",
     "iopub.status.busy": "2023-09-11T16:50:12.032059Z",
     "iopub.status.idle": "2023-09-11T16:50:12.362438Z",
     "shell.execute_reply": "2023-09-11T16:50:12.361141Z"
    },
    "papermill": {
     "duration": 0.353049,
     "end_time": "2023-09-11T16:50:12.365254",
     "exception": false,
     "start_time": "2023-09-11T16:50:12.012205",
     "status": "completed"
    },
    "tags": []
   },
   "outputs": [],
   "source": [
    "c4 = 'petal_width'\n",
    "plt.figure(figsize = (12, 8))\n",
    "df[c4].hist()\n",
    "plt.title(c4, fontsize=18)\n",
    "plt.show()"
   ]
  },
  {
   "cell_type": "code",
   "execution_count": null,
   "id": "ab62db21",
   "metadata": {
    "execution": {
     "iopub.execute_input": "2023-09-11T16:50:12.406325Z",
     "iopub.status.busy": "2023-09-11T16:50:12.404969Z",
     "iopub.status.idle": "2023-09-11T16:50:19.684375Z",
     "shell.execute_reply": "2023-09-11T16:50:19.683100Z"
    },
    "papermill": {
     "duration": 7.304867,
     "end_time": "2023-09-11T16:50:19.689513",
     "exception": false,
     "start_time": "2023-09-11T16:50:12.384646",
     "status": "completed"
    },
    "tags": []
   },
   "outputs": [],
   "source": [
    "sns.pairplot(df , hue = (\"species\"))"
   ]
  },
  {
   "cell_type": "markdown",
   "id": "308755a8",
   "metadata": {
    "papermill": {
     "duration": 0.022799,
     "end_time": "2023-09-11T16:50:19.735700",
     "exception": false,
     "start_time": "2023-09-11T16:50:19.712901",
     "status": "completed"
    },
    "tags": []
   },
   "source": [
    "Encoding categorical values\n"
   ]
  },
  {
   "cell_type": "code",
   "execution_count": null,
   "id": "5787638c",
   "metadata": {
    "execution": {
     "iopub.execute_input": "2023-09-11T16:50:19.785998Z",
     "iopub.status.busy": "2023-09-11T16:50:19.785559Z",
     "iopub.status.idle": "2023-09-11T16:50:19.790456Z",
     "shell.execute_reply": "2023-09-11T16:50:19.789164Z"
    },
    "papermill": {
     "duration": 0.033151,
     "end_time": "2023-09-11T16:50:19.793150",
     "exception": false,
     "start_time": "2023-09-11T16:50:19.759999",
     "status": "completed"
    },
    "tags": []
   },
   "outputs": [],
   "source": [
    "le = LabelEncoder()"
   ]
  },
  {
   "cell_type": "code",
   "execution_count": null,
   "id": "b6311843",
   "metadata": {
    "execution": {
     "iopub.execute_input": "2023-09-11T16:50:19.841444Z",
     "iopub.status.busy": "2023-09-11T16:50:19.840984Z",
     "iopub.status.idle": "2023-09-11T16:50:19.847345Z",
     "shell.execute_reply": "2023-09-11T16:50:19.846090Z"
    },
    "papermill": {
     "duration": 0.033217,
     "end_time": "2023-09-11T16:50:19.849765",
     "exception": false,
     "start_time": "2023-09-11T16:50:19.816548",
     "status": "completed"
    },
    "tags": []
   },
   "outputs": [],
   "source": [
    "df['species'] = le.fit_transform(df['species'])"
   ]
  },
  {
   "cell_type": "code",
   "execution_count": null,
   "id": "aa0ecf89",
   "metadata": {
    "execution": {
     "iopub.execute_input": "2023-09-11T16:50:19.901689Z",
     "iopub.status.busy": "2023-09-11T16:50:19.900915Z",
     "iopub.status.idle": "2023-09-11T16:50:19.917640Z",
     "shell.execute_reply": "2023-09-11T16:50:19.916483Z"
    },
    "papermill": {
     "duration": 0.044512,
     "end_time": "2023-09-11T16:50:19.919942",
     "exception": false,
     "start_time": "2023-09-11T16:50:19.875430",
     "status": "completed"
    },
    "tags": []
   },
   "outputs": [],
   "source": [
    "df"
   ]
  },
  {
   "cell_type": "code",
   "execution_count": null,
   "id": "562a57fa",
   "metadata": {
    "execution": {
     "iopub.execute_input": "2023-09-11T16:50:19.969628Z",
     "iopub.status.busy": "2023-09-11T16:50:19.968930Z",
     "iopub.status.idle": "2023-09-11T16:50:19.975472Z",
     "shell.execute_reply": "2023-09-11T16:50:19.974625Z"
    },
    "papermill": {
     "duration": 0.033922,
     "end_time": "2023-09-11T16:50:19.977502",
     "exception": false,
     "start_time": "2023-09-11T16:50:19.943580",
     "status": "completed"
    },
    "tags": []
   },
   "outputs": [],
   "source": [
    "df['species'].unique()"
   ]
  },
  {
   "cell_type": "code",
   "execution_count": null,
   "id": "126ba766",
   "metadata": {
    "execution": {
     "iopub.execute_input": "2023-09-11T16:50:20.027398Z",
     "iopub.status.busy": "2023-09-11T16:50:20.026934Z",
     "iopub.status.idle": "2023-09-11T16:50:20.033323Z",
     "shell.execute_reply": "2023-09-11T16:50:20.031977Z"
    },
    "papermill": {
     "duration": 0.034975,
     "end_time": "2023-09-11T16:50:20.035889",
     "exception": false,
     "start_time": "2023-09-11T16:50:20.000914",
     "status": "completed"
    },
    "tags": []
   },
   "outputs": [],
   "source": [
    "X = df.drop(['species'], axis=1)\n",
    "Y = df['species']"
   ]
  },
  {
   "cell_type": "code",
   "execution_count": null,
   "id": "4cc95ef1",
   "metadata": {
    "execution": {
     "iopub.execute_input": "2023-09-11T16:50:20.087408Z",
     "iopub.status.busy": "2023-09-11T16:50:20.086344Z",
     "iopub.status.idle": "2023-09-11T16:50:20.093268Z",
     "shell.execute_reply": "2023-09-11T16:50:20.092148Z"
    },
    "papermill": {
     "duration": 0.035675,
     "end_time": "2023-09-11T16:50:20.095449",
     "exception": false,
     "start_time": "2023-09-11T16:50:20.059774",
     "status": "completed"
    },
    "tags": []
   },
   "outputs": [],
   "source": [
    "#X\n",
    "X.shape"
   ]
  },
  {
   "cell_type": "code",
   "execution_count": null,
   "id": "fc3baa65",
   "metadata": {
    "execution": {
     "iopub.execute_input": "2023-09-11T16:50:20.146127Z",
     "iopub.status.busy": "2023-09-11T16:50:20.145019Z",
     "iopub.status.idle": "2023-09-11T16:50:20.152905Z",
     "shell.execute_reply": "2023-09-11T16:50:20.151770Z"
    },
    "papermill": {
     "duration": 0.035277,
     "end_time": "2023-09-11T16:50:20.155123",
     "exception": false,
     "start_time": "2023-09-11T16:50:20.119846",
     "status": "completed"
    },
    "tags": []
   },
   "outputs": [],
   "source": [
    "#Y\n",
    "Y.shape"
   ]
  },
  {
   "cell_type": "code",
   "execution_count": null,
   "id": "4448584e",
   "metadata": {
    "execution": {
     "iopub.execute_input": "2023-09-11T16:50:20.204811Z",
     "iopub.status.busy": "2023-09-11T16:50:20.204147Z",
     "iopub.status.idle": "2023-09-11T16:50:20.210315Z",
     "shell.execute_reply": "2023-09-11T16:50:20.209452Z"
    },
    "papermill": {
     "duration": 0.033492,
     "end_time": "2023-09-11T16:50:20.212417",
     "exception": false,
     "start_time": "2023-09-11T16:50:20.178925",
     "status": "completed"
    },
    "tags": []
   },
   "outputs": [],
   "source": [
    "X_train, X_test, Y_train, Y_test = train_test_split(X, Y, test_size= 0.25 )"
   ]
  },
  {
   "cell_type": "code",
   "execution_count": null,
   "id": "c9c69963",
   "metadata": {
    "execution": {
     "iopub.execute_input": "2023-09-11T16:50:20.262313Z",
     "iopub.status.busy": "2023-09-11T16:50:20.261765Z",
     "iopub.status.idle": "2023-09-11T16:50:20.268680Z",
     "shell.execute_reply": "2023-09-11T16:50:20.267518Z"
    },
    "papermill": {
     "duration": 0.035208,
     "end_time": "2023-09-11T16:50:20.270933",
     "exception": false,
     "start_time": "2023-09-11T16:50:20.235725",
     "status": "completed"
    },
    "tags": []
   },
   "outputs": [],
   "source": [
    "X_train.shape"
   ]
  },
  {
   "cell_type": "code",
   "execution_count": null,
   "id": "c4fccf1d",
   "metadata": {
    "execution": {
     "iopub.execute_input": "2023-09-11T16:50:20.320124Z",
     "iopub.status.busy": "2023-09-11T16:50:20.319623Z",
     "iopub.status.idle": "2023-09-11T16:50:20.327665Z",
     "shell.execute_reply": "2023-09-11T16:50:20.326499Z"
    },
    "papermill": {
     "duration": 0.035193,
     "end_time": "2023-09-11T16:50:20.329889",
     "exception": false,
     "start_time": "2023-09-11T16:50:20.294696",
     "status": "completed"
    },
    "tags": []
   },
   "outputs": [],
   "source": [
    "X_test.shape"
   ]
  },
  {
   "cell_type": "code",
   "execution_count": null,
   "id": "7bfee1ee",
   "metadata": {
    "execution": {
     "iopub.execute_input": "2023-09-11T16:50:20.381468Z",
     "iopub.status.busy": "2023-09-11T16:50:20.380558Z",
     "iopub.status.idle": "2023-09-11T16:50:20.388195Z",
     "shell.execute_reply": "2023-09-11T16:50:20.387249Z"
    },
    "papermill": {
     "duration": 0.035578,
     "end_time": "2023-09-11T16:50:20.390413",
     "exception": false,
     "start_time": "2023-09-11T16:50:20.354835",
     "status": "completed"
    },
    "tags": []
   },
   "outputs": [],
   "source": [
    "Y_train.shape"
   ]
  },
  {
   "cell_type": "code",
   "execution_count": null,
   "id": "0187f11b",
   "metadata": {
    "execution": {
     "iopub.execute_input": "2023-09-11T16:50:20.440584Z",
     "iopub.status.busy": "2023-09-11T16:50:20.439870Z",
     "iopub.status.idle": "2023-09-11T16:50:20.446609Z",
     "shell.execute_reply": "2023-09-11T16:50:20.445551Z"
    },
    "papermill": {
     "duration": 0.034498,
     "end_time": "2023-09-11T16:50:20.448751",
     "exception": false,
     "start_time": "2023-09-11T16:50:20.414253",
     "status": "completed"
    },
    "tags": []
   },
   "outputs": [],
   "source": [
    "Y_test.shape"
   ]
  },
  {
   "cell_type": "markdown",
   "id": "79fefdce",
   "metadata": {
    "papermill": {
     "duration": 0.023701,
     "end_time": "2023-09-11T16:50:20.496636",
     "exception": false,
     "start_time": "2023-09-11T16:50:20.472935",
     "status": "completed"
    },
    "tags": []
   },
   "source": [
    "# Modelling"
   ]
  },
  {
   "cell_type": "markdown",
   "id": "87be1ec8",
   "metadata": {
    "papermill": {
     "duration": 0.023705,
     "end_time": "2023-09-11T16:50:20.544641",
     "exception": false,
     "start_time": "2023-09-11T16:50:20.520936",
     "status": "completed"
    },
    "tags": []
   },
   "source": [
    "# LogisticRegression"
   ]
  },
  {
   "cell_type": "code",
   "execution_count": null,
   "id": "2d300abd",
   "metadata": {
    "execution": {
     "iopub.execute_input": "2023-09-11T16:50:20.595637Z",
     "iopub.status.busy": "2023-09-11T16:50:20.595188Z",
     "iopub.status.idle": "2023-09-11T16:50:20.600470Z",
     "shell.execute_reply": "2023-09-11T16:50:20.599339Z"
    },
    "papermill": {
     "duration": 0.033682,
     "end_time": "2023-09-11T16:50:20.602602",
     "exception": false,
     "start_time": "2023-09-11T16:50:20.568920",
     "status": "completed"
    },
    "tags": []
   },
   "outputs": [],
   "source": [
    "Lo_model=LogisticRegression(max_iter= 100)"
   ]
  },
  {
   "cell_type": "code",
   "execution_count": null,
   "id": "c48296e7",
   "metadata": {
    "execution": {
     "iopub.execute_input": "2023-09-11T16:50:20.653430Z",
     "iopub.status.busy": "2023-09-11T16:50:20.652758Z",
     "iopub.status.idle": "2023-09-11T16:50:20.694634Z",
     "shell.execute_reply": "2023-09-11T16:50:20.693696Z"
    },
    "papermill": {
     "duration": 0.070213,
     "end_time": "2023-09-11T16:50:20.696933",
     "exception": false,
     "start_time": "2023-09-11T16:50:20.626720",
     "status": "completed"
    },
    "tags": []
   },
   "outputs": [],
   "source": [
    "Lo_model.fit(X_train,Y_train)"
   ]
  },
  {
   "cell_type": "code",
   "execution_count": null,
   "id": "84115c10",
   "metadata": {
    "execution": {
     "iopub.execute_input": "2023-09-11T16:50:20.751191Z",
     "iopub.status.busy": "2023-09-11T16:50:20.749676Z",
     "iopub.status.idle": "2023-09-11T16:50:20.759036Z",
     "shell.execute_reply": "2023-09-11T16:50:20.758107Z"
    },
    "papermill": {
     "duration": 0.03912,
     "end_time": "2023-09-11T16:50:20.761368",
     "exception": false,
     "start_time": "2023-09-11T16:50:20.722248",
     "status": "completed"
    },
    "tags": []
   },
   "outputs": [],
   "source": [
    "pred = Lo_model.predict(X_test)\n",
    "print('Accuracy:', accuracy_score(pred,Y_test))"
   ]
  },
  {
   "cell_type": "code",
   "execution_count": null,
   "id": "cfed6212",
   "metadata": {
    "execution": {
     "iopub.execute_input": "2023-09-11T16:50:20.815692Z",
     "iopub.status.busy": "2023-09-11T16:50:20.814457Z",
     "iopub.status.idle": "2023-09-11T16:50:20.828914Z",
     "shell.execute_reply": "2023-09-11T16:50:20.827426Z"
    },
    "papermill": {
     "duration": 0.044609,
     "end_time": "2023-09-11T16:50:20.831714",
     "exception": false,
     "start_time": "2023-09-11T16:50:20.787105",
     "status": "completed"
    },
    "tags": []
   },
   "outputs": [],
   "source": [
    "confusion = confusion_matrix(Y_test, pred)\n",
    "print (\"Confusion matrix:\\n\" ,confusion)\n",
    "print(classification_report(Y_test,pred))"
   ]
  },
  {
   "cell_type": "code",
   "execution_count": null,
   "id": "5f83957c",
   "metadata": {
    "papermill": {
     "duration": 0.025941,
     "end_time": "2023-09-11T16:50:20.882852",
     "exception": false,
     "start_time": "2023-09-11T16:50:20.856911",
     "status": "completed"
    },
    "tags": []
   },
   "outputs": [],
   "source": []
  },
  {
   "cell_type": "markdown",
   "id": "93994bf4",
   "metadata": {
    "papermill": {
     "duration": 0.025009,
     "end_time": "2023-09-11T16:50:20.934577",
     "exception": false,
     "start_time": "2023-09-11T16:50:20.909568",
     "status": "completed"
    },
    "tags": []
   },
   "source": [
    "# KNN"
   ]
  },
  {
   "cell_type": "code",
   "execution_count": null,
   "id": "86018908",
   "metadata": {
    "execution": {
     "iopub.execute_input": "2023-09-11T16:50:20.989304Z",
     "iopub.status.busy": "2023-09-11T16:50:20.988345Z",
     "iopub.status.idle": "2023-09-11T16:50:21.005648Z",
     "shell.execute_reply": "2023-09-11T16:50:21.004033Z"
    },
    "papermill": {
     "duration": 0.047038,
     "end_time": "2023-09-11T16:50:21.008189",
     "exception": false,
     "start_time": "2023-09-11T16:50:20.961151",
     "status": "completed"
    },
    "tags": []
   },
   "outputs": [],
   "source": [
    "KNN_model = KNeighborsClassifier(n_neighbors = 4)\n",
    "KNN_model.fit(X_train,Y_train)\n",
    "y_pred2 = KNN_model.predict(X_test)\n",
    "\n",
    "print('Accuracy:', accuracy_score(Y_test, y_pred2))"
   ]
  },
  {
   "cell_type": "markdown",
   "id": "d02be9aa",
   "metadata": {
    "papermill": {
     "duration": 0.025574,
     "end_time": "2023-09-11T16:50:21.061236",
     "exception": false,
     "start_time": "2023-09-11T16:50:21.035662",
     "status": "completed"
    },
    "tags": []
   },
   "source": [
    "# DecisionTree"
   ]
  },
  {
   "cell_type": "code",
   "execution_count": null,
   "id": "91272c56",
   "metadata": {
    "execution": {
     "iopub.execute_input": "2023-09-11T16:50:21.114853Z",
     "iopub.status.busy": "2023-09-11T16:50:21.114410Z",
     "iopub.status.idle": "2023-09-11T16:50:21.126980Z",
     "shell.execute_reply": "2023-09-11T16:50:21.126129Z"
    },
    "papermill": {
     "duration": 0.041849,
     "end_time": "2023-09-11T16:50:21.129285",
     "exception": false,
     "start_time": "2023-09-11T16:50:21.087436",
     "status": "completed"
    },
    "tags": []
   },
   "outputs": [],
   "source": [
    "dt_model = tree.DecisionTreeClassifier()\n",
    "dt_model.fit(X_train, Y_train)"
   ]
  },
  {
   "cell_type": "code",
   "execution_count": null,
   "id": "4234c23c",
   "metadata": {
    "execution": {
     "iopub.execute_input": "2023-09-11T16:50:21.184422Z",
     "iopub.status.busy": "2023-09-11T16:50:21.183403Z",
     "iopub.status.idle": "2023-09-11T16:50:21.191206Z",
     "shell.execute_reply": "2023-09-11T16:50:21.190037Z"
    },
    "papermill": {
     "duration": 0.038609,
     "end_time": "2023-09-11T16:50:21.193383",
     "exception": false,
     "start_time": "2023-09-11T16:50:21.154774",
     "status": "completed"
    },
    "tags": []
   },
   "outputs": [],
   "source": [
    "pred_dt = dt_model.predict(X_test)"
   ]
  },
  {
   "cell_type": "code",
   "execution_count": null,
   "id": "4e2156cb",
   "metadata": {
    "execution": {
     "iopub.execute_input": "2023-09-11T16:50:21.246956Z",
     "iopub.status.busy": "2023-09-11T16:50:21.246270Z",
     "iopub.status.idle": "2023-09-11T16:50:21.252191Z",
     "shell.execute_reply": "2023-09-11T16:50:21.251039Z"
    },
    "papermill": {
     "duration": 0.035834,
     "end_time": "2023-09-11T16:50:21.255037",
     "exception": false,
     "start_time": "2023-09-11T16:50:21.219203",
     "status": "completed"
    },
    "tags": []
   },
   "outputs": [],
   "source": [
    "acc_dt = accuracy_score(Y_test, pred_dt)\n",
    "#print('Accuracy:', accuracy_score(Y_test,pred_dt))"
   ]
  },
  {
   "cell_type": "code",
   "execution_count": null,
   "id": "54db70b3",
   "metadata": {
    "execution": {
     "iopub.execute_input": "2023-09-11T16:50:21.310111Z",
     "iopub.status.busy": "2023-09-11T16:50:21.309655Z",
     "iopub.status.idle": "2023-09-11T16:50:21.316600Z",
     "shell.execute_reply": "2023-09-11T16:50:21.315328Z"
    },
    "papermill": {
     "duration": 0.037563,
     "end_time": "2023-09-11T16:50:21.319094",
     "exception": false,
     "start_time": "2023-09-11T16:50:21.281531",
     "status": "completed"
    },
    "tags": []
   },
   "outputs": [],
   "source": [
    "acc_dt"
   ]
  },
  {
   "cell_type": "markdown",
   "id": "425b1094",
   "metadata": {
    "papermill": {
     "duration": 0.026804,
     "end_time": "2023-09-11T16:50:21.373722",
     "exception": false,
     "start_time": "2023-09-11T16:50:21.346918",
     "status": "completed"
    },
    "tags": []
   },
   "source": [
    "# The End\n",
    "Thank for reading my analysis , if you any questions or advice me please write in the comment"
   ]
  },
  {
   "cell_type": "markdown",
   "id": "bd7b0ee0",
   "metadata": {
    "papermill": {
     "duration": 0.024969,
     "end_time": "2023-09-11T16:50:21.424861",
     "exception": false,
     "start_time": "2023-09-11T16:50:21.399892",
     "status": "completed"
    },
    "tags": []
   },
   "source": [
    "# Vote\n",
    "If you liked my workvote me"
   ]
  }
 ],
 "metadata": {
  "kernelspec": {
   "display_name": "Python 3 (ipykernel)",
   "language": "python",
   "name": "python3"
  },
  "language_info": {
   "codemirror_mode": {
    "name": "ipython",
    "version": 3
   },
   "file_extension": ".py",
   "mimetype": "text/x-python",
   "name": "python",
   "nbconvert_exporter": "python",
   "pygments_lexer": "ipython3",
   "version": "3.11.4"
  },
  "papermill": {
   "default_parameters": {},
   "duration": 18.689724,
   "end_time": "2023-09-11T16:50:22.274342",
   "environment_variables": {},
   "exception": null,
   "input_path": "__notebook__.ipynb",
   "output_path": "__notebook__.ipynb",
   "parameters": {},
   "start_time": "2023-09-11T16:50:03.584618",
   "version": "2.4.0"
  }
 },
 "nbformat": 4,
 "nbformat_minor": 5
}
